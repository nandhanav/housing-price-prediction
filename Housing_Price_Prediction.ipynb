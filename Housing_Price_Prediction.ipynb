{
 "cells": [
  {
   "cell_type": "code",
   "execution_count": 1,
   "id": "fd11ff4a",
   "metadata": {},
   "outputs": [],
   "source": [
    "import pandas as pd\n",
    "import numpy as np\n",
    "import matplotlib.pyplot as plt"
   ]
  },
  {
   "cell_type": "code",
   "execution_count": 2,
   "id": "09497b99",
   "metadata": {},
   "outputs": [
    {
     "data": {
      "text/html": [
       "<div>\n",
       "<style scoped>\n",
       "    .dataframe tbody tr th:only-of-type {\n",
       "        vertical-align: middle;\n",
       "    }\n",
       "\n",
       "    .dataframe tbody tr th {\n",
       "        vertical-align: top;\n",
       "    }\n",
       "\n",
       "    .dataframe thead th {\n",
       "        text-align: right;\n",
       "    }\n",
       "</style>\n",
       "<table border=\"1\" class=\"dataframe\">\n",
       "  <thead>\n",
       "    <tr style=\"text-align: right;\">\n",
       "      <th></th>\n",
       "      <th>price</th>\n",
       "      <th>area</th>\n",
       "      <th>bedrooms</th>\n",
       "      <th>bathrooms</th>\n",
       "      <th>stories</th>\n",
       "      <th>mainroad</th>\n",
       "      <th>guestroom</th>\n",
       "      <th>basement</th>\n",
       "      <th>hotwaterheating</th>\n",
       "      <th>airconditioning</th>\n",
       "      <th>parking</th>\n",
       "      <th>prefarea</th>\n",
       "      <th>furnishingstatus</th>\n",
       "    </tr>\n",
       "  </thead>\n",
       "  <tbody>\n",
       "    <tr>\n",
       "      <th>0</th>\n",
       "      <td>13300000</td>\n",
       "      <td>7420</td>\n",
       "      <td>4</td>\n",
       "      <td>2</td>\n",
       "      <td>3</td>\n",
       "      <td>yes</td>\n",
       "      <td>no</td>\n",
       "      <td>no</td>\n",
       "      <td>no</td>\n",
       "      <td>yes</td>\n",
       "      <td>2</td>\n",
       "      <td>yes</td>\n",
       "      <td>furnished</td>\n",
       "    </tr>\n",
       "    <tr>\n",
       "      <th>1</th>\n",
       "      <td>12250000</td>\n",
       "      <td>8960</td>\n",
       "      <td>4</td>\n",
       "      <td>4</td>\n",
       "      <td>4</td>\n",
       "      <td>yes</td>\n",
       "      <td>no</td>\n",
       "      <td>no</td>\n",
       "      <td>no</td>\n",
       "      <td>yes</td>\n",
       "      <td>3</td>\n",
       "      <td>no</td>\n",
       "      <td>furnished</td>\n",
       "    </tr>\n",
       "    <tr>\n",
       "      <th>2</th>\n",
       "      <td>12250000</td>\n",
       "      <td>9960</td>\n",
       "      <td>3</td>\n",
       "      <td>2</td>\n",
       "      <td>2</td>\n",
       "      <td>yes</td>\n",
       "      <td>no</td>\n",
       "      <td>yes</td>\n",
       "      <td>no</td>\n",
       "      <td>no</td>\n",
       "      <td>2</td>\n",
       "      <td>yes</td>\n",
       "      <td>semi-furnished</td>\n",
       "    </tr>\n",
       "    <tr>\n",
       "      <th>3</th>\n",
       "      <td>12215000</td>\n",
       "      <td>7500</td>\n",
       "      <td>4</td>\n",
       "      <td>2</td>\n",
       "      <td>2</td>\n",
       "      <td>yes</td>\n",
       "      <td>no</td>\n",
       "      <td>yes</td>\n",
       "      <td>no</td>\n",
       "      <td>yes</td>\n",
       "      <td>3</td>\n",
       "      <td>yes</td>\n",
       "      <td>furnished</td>\n",
       "    </tr>\n",
       "    <tr>\n",
       "      <th>4</th>\n",
       "      <td>11410000</td>\n",
       "      <td>7420</td>\n",
       "      <td>4</td>\n",
       "      <td>1</td>\n",
       "      <td>2</td>\n",
       "      <td>yes</td>\n",
       "      <td>yes</td>\n",
       "      <td>yes</td>\n",
       "      <td>no</td>\n",
       "      <td>yes</td>\n",
       "      <td>2</td>\n",
       "      <td>no</td>\n",
       "      <td>furnished</td>\n",
       "    </tr>\n",
       "  </tbody>\n",
       "</table>\n",
       "</div>"
      ],
      "text/plain": [
       "      price  area  bedrooms  bathrooms  stories mainroad guestroom basement  \\\n",
       "0  13300000  7420         4          2        3      yes        no       no   \n",
       "1  12250000  8960         4          4        4      yes        no       no   \n",
       "2  12250000  9960         3          2        2      yes        no      yes   \n",
       "3  12215000  7500         4          2        2      yes        no      yes   \n",
       "4  11410000  7420         4          1        2      yes       yes      yes   \n",
       "\n",
       "  hotwaterheating airconditioning  parking prefarea furnishingstatus  \n",
       "0              no             yes        2      yes        furnished  \n",
       "1              no             yes        3       no        furnished  \n",
       "2              no              no        2      yes   semi-furnished  \n",
       "3              no             yes        3      yes        furnished  \n",
       "4              no             yes        2       no        furnished  "
      ]
     },
     "execution_count": 2,
     "metadata": {},
     "output_type": "execute_result"
    }
   ],
   "source": [
    "df = pd.read_csv('Housing.csv')\n",
    "df.head()"
   ]
  },
  {
   "cell_type": "code",
   "execution_count": 3,
   "id": "eb63036e",
   "metadata": {},
   "outputs": [
    {
     "data": {
      "text/plain": [
       "(545, 13)"
      ]
     },
     "execution_count": 3,
     "metadata": {},
     "output_type": "execute_result"
    }
   ],
   "source": [
    "df.shape"
   ]
  },
  {
   "cell_type": "code",
   "execution_count": 4,
   "id": "71240600",
   "metadata": {},
   "outputs": [
    {
     "data": {
      "text/plain": [
       "price               0\n",
       "area                0\n",
       "bedrooms            0\n",
       "bathrooms           0\n",
       "stories             0\n",
       "mainroad            0\n",
       "guestroom           0\n",
       "basement            0\n",
       "hotwaterheating     0\n",
       "airconditioning     0\n",
       "parking             0\n",
       "prefarea            0\n",
       "furnishingstatus    0\n",
       "dtype: int64"
      ]
     },
     "execution_count": 4,
     "metadata": {},
     "output_type": "execute_result"
    }
   ],
   "source": [
    "df.isnull().sum()"
   ]
  },
  {
   "cell_type": "code",
   "execution_count": 5,
   "id": "7a402797",
   "metadata": {},
   "outputs": [
    {
     "data": {
      "text/plain": [
       "price                int64\n",
       "area                 int64\n",
       "bedrooms             int64\n",
       "bathrooms            int64\n",
       "stories              int64\n",
       "mainroad            object\n",
       "guestroom           object\n",
       "basement            object\n",
       "hotwaterheating     object\n",
       "airconditioning     object\n",
       "parking              int64\n",
       "prefarea            object\n",
       "furnishingstatus    object\n",
       "dtype: object"
      ]
     },
     "execution_count": 5,
     "metadata": {},
     "output_type": "execute_result"
    }
   ],
   "source": [
    "df.dtypes"
   ]
  },
  {
   "cell_type": "code",
   "execution_count": 7,
   "id": "b49bfe4f",
   "metadata": {},
   "outputs": [
    {
     "name": "stdout",
     "output_type": "stream",
     "text": [
      "yes    468\n",
      "no      77\n",
      "Name: mainroad, dtype: int64\n",
      "no     448\n",
      "yes     97\n",
      "Name: guestroom, dtype: int64\n"
     ]
    }
   ],
   "source": [
    "print(df['mainroad'].value_counts())\n",
    "print(df['guestroom'].value_counts())"
   ]
  },
  {
   "cell_type": "code",
   "execution_count": 8,
   "id": "235fddbb",
   "metadata": {},
   "outputs": [
    {
     "name": "stdout",
     "output_type": "stream",
     "text": [
      "no     354\n",
      "yes    191\n",
      "Name: basement, dtype: int64\n",
      "no     520\n",
      "yes     25\n",
      "Name: hotwaterheating, dtype: int64\n",
      "no     373\n",
      "yes    172\n",
      "Name: airconditioning, dtype: int64\n"
     ]
    }
   ],
   "source": [
    "print(df['basement'].value_counts())\n",
    "print(df['hotwaterheating'].value_counts())\n",
    "print(df['airconditioning'].value_counts())"
   ]
  },
  {
   "cell_type": "code",
   "execution_count": 9,
   "id": "6a82625e",
   "metadata": {},
   "outputs": [
    {
     "name": "stdout",
     "output_type": "stream",
     "text": [
      "no     417\n",
      "yes    128\n",
      "Name: prefarea, dtype: int64\n",
      "semi-furnished    227\n",
      "unfurnished       178\n",
      "furnished         140\n",
      "Name: furnishingstatus, dtype: int64\n"
     ]
    }
   ],
   "source": [
    "print(df['prefarea'].value_counts())\n",
    "print(df['furnishingstatus'].value_counts())"
   ]
  },
  {
   "cell_type": "code",
   "execution_count": 13,
   "id": "36975d3f",
   "metadata": {},
   "outputs": [],
   "source": [
    "from sklearn.preprocessing import LabelEncoder"
   ]
  },
  {
   "cell_type": "code",
   "execution_count": 15,
   "id": "50201b07",
   "metadata": {},
   "outputs": [],
   "source": [
    "lb = LabelEncoder()\n",
    "df['mainroad'] = lb.fit_transform(df['mainroad'])\n",
    "df['guestroom'] = lb.fit_transform(df['guestroom'])\n",
    "df['basement'] = lb.fit_transform(df['basement'])\n",
    "df['hotwaterheating'] = lb.fit_transform(df['hotwaterheating'])\n",
    "df['airconditioning'] = lb.fit_transform(df['airconditioning'])\n",
    "df['prefarea'] = lb.fit_transform(df['prefarea'])\n",
    "df['furnishingstatus'] = lb.fit_transform(df['furnishingstatus'])"
   ]
  },
  {
   "cell_type": "code",
   "execution_count": 16,
   "id": "979dc220",
   "metadata": {},
   "outputs": [
    {
     "name": "stdout",
     "output_type": "stream",
     "text": [
      "1    468\n",
      "0     77\n",
      "Name: mainroad, dtype: int64\n",
      "0    448\n",
      "1     97\n",
      "Name: guestroom, dtype: int64\n"
     ]
    }
   ],
   "source": [
    "print(df['mainroad'].value_counts())\n",
    "print(df['guestroom'].value_counts())"
   ]
  },
  {
   "cell_type": "code",
   "execution_count": 17,
   "id": "fcffdffb",
   "metadata": {},
   "outputs": [
    {
     "name": "stdout",
     "output_type": "stream",
     "text": [
      "0    354\n",
      "1    191\n",
      "Name: basement, dtype: int64\n",
      "0    520\n",
      "1     25\n",
      "Name: hotwaterheating, dtype: int64\n",
      "0    373\n",
      "1    172\n",
      "Name: airconditioning, dtype: int64\n"
     ]
    }
   ],
   "source": [
    "print(df['basement'].value_counts())\n",
    "print(df['hotwaterheating'].value_counts())\n",
    "print(df['airconditioning'].value_counts())"
   ]
  },
  {
   "cell_type": "code",
   "execution_count": 18,
   "id": "17a8db90",
   "metadata": {},
   "outputs": [
    {
     "name": "stdout",
     "output_type": "stream",
     "text": [
      "0    417\n",
      "1    128\n",
      "Name: prefarea, dtype: int64\n",
      "1    227\n",
      "2    178\n",
      "0    140\n",
      "Name: furnishingstatus, dtype: int64\n"
     ]
    }
   ],
   "source": [
    "print(df['prefarea'].value_counts())\n",
    "print(df['furnishingstatus'].value_counts())"
   ]
  },
  {
   "cell_type": "code",
   "execution_count": 19,
   "id": "36d9de55",
   "metadata": {},
   "outputs": [
    {
     "data": {
      "text/plain": [
       "price               int64\n",
       "area                int64\n",
       "bedrooms            int64\n",
       "bathrooms           int64\n",
       "stories             int64\n",
       "mainroad            int64\n",
       "guestroom           int64\n",
       "basement            int32\n",
       "hotwaterheating     int32\n",
       "airconditioning     int32\n",
       "parking             int64\n",
       "prefarea            int32\n",
       "furnishingstatus    int32\n",
       "dtype: object"
      ]
     },
     "execution_count": 19,
     "metadata": {},
     "output_type": "execute_result"
    }
   ],
   "source": [
    "df.dtypes"
   ]
  },
  {
   "cell_type": "code",
   "execution_count": 21,
   "id": "e2d077a6",
   "metadata": {},
   "outputs": [
    {
     "name": "stdout",
     "output_type": "stream",
     "text": [
      "<class 'pandas.core.frame.DataFrame'>\n",
      "<class 'pandas.core.series.Series'>\n",
      "(545, 12)\n",
      "(545,)\n"
     ]
    }
   ],
   "source": [
    "x = df.iloc[:,1:]\n",
    "y = df['price']\n",
    "print(type(x))\n",
    "print(type(y))\n",
    "print(x.shape)\n",
    "print(y.shape)"
   ]
  },
  {
   "cell_type": "code",
   "execution_count": 22,
   "id": "45776148",
   "metadata": {},
   "outputs": [],
   "source": [
    "from sklearn.model_selection import train_test_split"
   ]
  },
  {
   "cell_type": "code",
   "execution_count": 23,
   "id": "f5c554f5",
   "metadata": {},
   "outputs": [
    {
     "name": "stdout",
     "output_type": "stream",
     "text": [
      "(408, 12)\n",
      "(137, 12)\n",
      "(408,)\n",
      "(137,)\n"
     ]
    }
   ],
   "source": [
    "x_train,x_test,y_train,y_test = train_test_split(x,y,test_size=0.25)\n",
    "print(x_train.shape)\n",
    "print(x_test.shape)\n",
    "print(y_train.shape)\n",
    "print(y_test.shape)"
   ]
  },
  {
   "cell_type": "code",
   "execution_count": 25,
   "id": "77af32e7",
   "metadata": {},
   "outputs": [
    {
     "data": {
      "text/html": [
       "<div>\n",
       "<style scoped>\n",
       "    .dataframe tbody tr th:only-of-type {\n",
       "        vertical-align: middle;\n",
       "    }\n",
       "\n",
       "    .dataframe tbody tr th {\n",
       "        vertical-align: top;\n",
       "    }\n",
       "\n",
       "    .dataframe thead th {\n",
       "        text-align: right;\n",
       "    }\n",
       "</style>\n",
       "<table border=\"1\" class=\"dataframe\">\n",
       "  <thead>\n",
       "    <tr style=\"text-align: right;\">\n",
       "      <th></th>\n",
       "      <th>area</th>\n",
       "      <th>bedrooms</th>\n",
       "      <th>bathrooms</th>\n",
       "      <th>stories</th>\n",
       "      <th>mainroad</th>\n",
       "      <th>guestroom</th>\n",
       "      <th>basement</th>\n",
       "      <th>hotwaterheating</th>\n",
       "      <th>airconditioning</th>\n",
       "      <th>parking</th>\n",
       "      <th>prefarea</th>\n",
       "      <th>furnishingstatus</th>\n",
       "    </tr>\n",
       "  </thead>\n",
       "  <tbody>\n",
       "    <tr>\n",
       "      <th>110</th>\n",
       "      <td>6600</td>\n",
       "      <td>3</td>\n",
       "      <td>1</td>\n",
       "      <td>1</td>\n",
       "      <td>1</td>\n",
       "      <td>1</td>\n",
       "      <td>1</td>\n",
       "      <td>0</td>\n",
       "      <td>0</td>\n",
       "      <td>2</td>\n",
       "      <td>1</td>\n",
       "      <td>1</td>\n",
       "    </tr>\n",
       "    <tr>\n",
       "      <th>142</th>\n",
       "      <td>10500</td>\n",
       "      <td>4</td>\n",
       "      <td>2</td>\n",
       "      <td>2</td>\n",
       "      <td>1</td>\n",
       "      <td>0</td>\n",
       "      <td>0</td>\n",
       "      <td>0</td>\n",
       "      <td>0</td>\n",
       "      <td>1</td>\n",
       "      <td>0</td>\n",
       "      <td>1</td>\n",
       "    </tr>\n",
       "    <tr>\n",
       "      <th>321</th>\n",
       "      <td>3630</td>\n",
       "      <td>3</td>\n",
       "      <td>2</td>\n",
       "      <td>2</td>\n",
       "      <td>1</td>\n",
       "      <td>0</td>\n",
       "      <td>0</td>\n",
       "      <td>1</td>\n",
       "      <td>0</td>\n",
       "      <td>2</td>\n",
       "      <td>0</td>\n",
       "      <td>1</td>\n",
       "    </tr>\n",
       "    <tr>\n",
       "      <th>4</th>\n",
       "      <td>7420</td>\n",
       "      <td>4</td>\n",
       "      <td>1</td>\n",
       "      <td>2</td>\n",
       "      <td>1</td>\n",
       "      <td>1</td>\n",
       "      <td>1</td>\n",
       "      <td>0</td>\n",
       "      <td>1</td>\n",
       "      <td>2</td>\n",
       "      <td>0</td>\n",
       "      <td>0</td>\n",
       "    </tr>\n",
       "    <tr>\n",
       "      <th>188</th>\n",
       "      <td>5720</td>\n",
       "      <td>2</td>\n",
       "      <td>1</td>\n",
       "      <td>2</td>\n",
       "      <td>1</td>\n",
       "      <td>0</td>\n",
       "      <td>0</td>\n",
       "      <td>0</td>\n",
       "      <td>1</td>\n",
       "      <td>0</td>\n",
       "      <td>1</td>\n",
       "      <td>2</td>\n",
       "    </tr>\n",
       "  </tbody>\n",
       "</table>\n",
       "</div>"
      ],
      "text/plain": [
       "      area  bedrooms  bathrooms  stories  mainroad  guestroom  basement  \\\n",
       "110   6600         3          1        1         1          1         1   \n",
       "142  10500         4          2        2         1          0         0   \n",
       "321   3630         3          2        2         1          0         0   \n",
       "4     7420         4          1        2         1          1         1   \n",
       "188   5720         2          1        2         1          0         0   \n",
       "\n",
       "     hotwaterheating  airconditioning  parking  prefarea  furnishingstatus  \n",
       "110                0                0        2         1                 1  \n",
       "142                0                0        1         0                 1  \n",
       "321                1                0        2         0                 1  \n",
       "4                  0                1        2         0                 0  \n",
       "188                0                1        0         1                 2  "
      ]
     },
     "execution_count": 25,
     "metadata": {},
     "output_type": "execute_result"
    }
   ],
   "source": [
    "x_train.head()"
   ]
  },
  {
   "cell_type": "markdown",
   "id": "fbcf20c5",
   "metadata": {},
   "source": [
    "#### Applying LinearRegession Model"
   ]
  },
  {
   "cell_type": "code",
   "execution_count": 24,
   "id": "12e3f39a",
   "metadata": {},
   "outputs": [],
   "source": [
    "from sklearn.linear_model import LinearRegression"
   ]
  },
  {
   "cell_type": "code",
   "execution_count": 27,
   "id": "8550a2dd",
   "metadata": {},
   "outputs": [
    {
     "data": {
      "text/plain": [
       "LinearRegression()"
      ]
     },
     "execution_count": 27,
     "metadata": {},
     "output_type": "execute_result"
    }
   ],
   "source": [
    "m1 = LinearRegression()\n",
    "m1.fit(x_train,y_train)"
   ]
  },
  {
   "cell_type": "code",
   "execution_count": 28,
   "id": "6bcb4e3c",
   "metadata": {},
   "outputs": [
    {
     "name": "stdout",
     "output_type": "stream",
     "text": [
      "Training Score 0.6727715409813215\n",
      "Testing Score 0.6744271897892646\n"
     ]
    }
   ],
   "source": [
    "# R2_Score\n",
    "print('Training Score',m1.score(x_train,y_train))\n",
    "print('Testing Score',m1.score(x_test,y_test))"
   ]
  },
  {
   "cell_type": "code",
   "execution_count": 31,
   "id": "8f41f9e0",
   "metadata": {},
   "outputs": [
    {
     "name": "stdout",
     "output_type": "stream",
     "text": [
      "[2883600.52057518 3878005.01792106 3043778.01633977 4286004.20911345\n",
      " 3973806.6188633  4348421.27213539 4772377.41093498 6395987.86327824\n",
      " 3648474.8394357  3015118.15642239 4538500.21912646 4598383.43490351\n",
      " 4302395.55966695 7653161.84619905 5307855.15179564 3273231.09825234\n",
      " 8091806.99718667 4427797.36146943 6766589.14069683 6432798.36961529\n",
      " 6298918.87358275 2334344.71559256 5166462.1144921  6022660.53247482\n",
      " 3069292.43852841 6031080.27853359 3347566.01172204 4853169.0928668\n",
      " 4319927.80322965 5009604.45905332 4999640.91782124 2849377.60624618\n",
      " 5092815.51570985 5196432.59913791 4667176.98228756 4527441.73300676\n",
      " 6754491.36048124 7723865.99059306 6204700.23954236 4681065.55427453\n",
      " 6930518.97560487 6194142.94378778 9023629.12651847 5832075.40583589\n",
      " 4523492.16759919 5663416.80355167 4463290.83585594 2727484.19661819\n",
      " 6427318.23667295 4602856.40934447 6846823.6755246  3851191.40359808\n",
      " 6566474.1641931  4910027.87703647 5225217.22314344 6667061.20755206\n",
      " 6386814.94665113 2927577.3860472  3353071.11496777 7030346.86230947\n",
      " 5297248.23192742 2622435.27216796 7001780.38915041 2456522.06381599\n",
      " 5029485.869191   3235013.59266822 3091802.92233917 4163517.54315923\n",
      " 4433046.56635488 7317499.60670094 4148509.49163195 5141602.91032393\n",
      " 3801127.91176176 4698297.37123378 5228146.56399002 3917479.12539987\n",
      " 8196963.6739119  6180066.03623598 4691678.17015246 7562776.18551096\n",
      " 3840502.56281704 6557333.88715951 5247377.69147385 4724547.84058165\n",
      " 9520655.87182823 3196727.74126112 3511687.90084223 7673592.69151244\n",
      " 3114250.15602742 4098501.21218862 6435688.87046716 6283489.98346447\n",
      " 3137985.95424551 5414477.58275216 3434841.17721808 6499842.20477106\n",
      " 4294094.50614495 2837535.45080414 5118227.2662617  3581528.46293023\n",
      " 4608084.42005483 3925335.09619829 6596328.11776388 7256123.4604184\n",
      " 6080677.62871917 3752961.79244185 4457289.83664435 5697442.36075946\n",
      " 3539623.01857282 7192409.08023377 4462819.93678362 2853045.21352133\n",
      " 5508322.08886885 4482828.91760554 6378331.65234918 7872228.91427812\n",
      " 3900454.53842507 5846908.78264379 4310898.59427344 2840165.16716695\n",
      " 3761330.23240692 7812504.19124558 3201466.5907579  3290749.06539728\n",
      " 2739739.90447072 4307364.83078243 8065530.37343752 3206353.73275084\n",
      " 3590568.31717303 6886759.15616218 4308382.00885741 2796853.14402106\n",
      " 5675398.47744023 3381627.32771337 4983500.09634082 4596210.43189447\n",
      " 4731788.54495099]\n"
     ]
    }
   ],
   "source": [
    "ypred_m1 = m1.predict(x_test)\n",
    "print(ypred_m1)"
   ]
  },
  {
   "cell_type": "code",
   "execution_count": 32,
   "id": "8bb2f165",
   "metadata": {},
   "outputs": [],
   "source": [
    "from sklearn.metrics import mean_absolute_error, mean_squared_error, r2_score"
   ]
  },
  {
   "cell_type": "code",
   "execution_count": 33,
   "id": "24710b07",
   "metadata": {},
   "outputs": [
    {
     "name": "stdout",
     "output_type": "stream",
     "text": [
      "MSE 1555367815411.2485\n",
      "RMSE 1247143.863157434\n",
      "MAE 894547.7968377995\n",
      "R2_Score 0.6744271897892646\n",
      "Testing Score 0.6744271897892646\n"
     ]
    }
   ],
   "source": [
    "mse = mean_squared_error(y_test,ypred_m1)\n",
    "rmse = np.sqrt(mean_squared_error(y_test,ypred_m1))\n",
    "mae = mean_absolute_error(y_test,ypred_m1)\n",
    "r2s = r2_score(y_test,ypred_m1)\n",
    "print('MSE',mse)\n",
    "print('RMSE',rmse)\n",
    "print('MAE',mae)\n",
    "print('R2_Score',r2s)\n",
    "print('Testing Score',m1.score(x_test,y_test))"
   ]
  },
  {
   "cell_type": "code",
   "execution_count": 29,
   "id": "e110f238",
   "metadata": {},
   "outputs": [],
   "source": [
    "#  DecisionTreeRegressor\n",
    "#  RandomForestRegressor\n",
    "#  KNighborsRegressor\n",
    "#  SVR"
   ]
  },
  {
   "cell_type": "code",
   "execution_count": 30,
   "id": "09e88b90",
   "metadata": {},
   "outputs": [],
   "source": [
    "from sklearn.neighbors import KNeighborsRegressor\n",
    "from sklearn.tree import DecisionTreeRegressor\n",
    "from sklearn.ensemble import RandomForestRegressor\n",
    "from sklearn.svm import SVR"
   ]
  },
  {
   "cell_type": "code",
   "execution_count": 39,
   "id": "e2977434",
   "metadata": {},
   "outputs": [
    {
     "data": {
      "text/plain": [
       "DecisionTreeRegressor(max_depth=10)"
      ]
     },
     "execution_count": 39,
     "metadata": {},
     "output_type": "execute_result"
    }
   ],
   "source": [
    "m2 = DecisionTreeRegressor(criterion='mse',max_depth=10)\n",
    "m2.fit(x_train,y_train)"
   ]
  },
  {
   "cell_type": "code",
   "execution_count": 40,
   "id": "fdd985dd",
   "metadata": {},
   "outputs": [
    {
     "name": "stdout",
     "output_type": "stream",
     "text": [
      "Training Score 0.9704617461316771\n",
      "Testing Score 0.47447016021993627\n"
     ]
    }
   ],
   "source": [
    "# R2_Score\n",
    "print('Training Score',m2.score(x_train,y_train))\n",
    "print('Testing Score',m2.score(x_test,y_test))"
   ]
  },
  {
   "cell_type": "code",
   "execution_count": 41,
   "id": "e7da26ec",
   "metadata": {},
   "outputs": [
    {
     "name": "stdout",
     "output_type": "stream",
     "text": [
      "[ 2233000.          4371888.88888889  3619000.          5022500.\n",
      "  4690000.          3850000.          5803000.          7700000.\n",
      "  3266307.69230769  3271625.          4515000.          6650000.\n",
      "  5040000.          6603333.33333333  4200000.          3619000.\n",
      " 13300000.          4169666.66666667  6405000.          5803000.\n",
      "  4795000.          3266307.69230769  4200000.          4025000.\n",
      "  3619000.          7420000.          3561444.44444444  4200000.\n",
      "  4707500.          6860000.          5425000.          3619000.\n",
      "  4060000.          4690000.          3266307.69230769  5530000.\n",
      "  5775000.          7210000.          4056500.          3754333.33333333\n",
      "  8855000.          4200000.         13300000.          9240000.\n",
      "  3754333.33333333  6860000.          3588375.          2374166.66666667\n",
      "  7210000.          4338833.33333333  6160000.          4830000.\n",
      "  7420000.          3826666.66666667  5950000.          5556250.\n",
      "  8645000.          3271625.          3619000.          5250000.\n",
      "  8400000.          3430000.          9240000.          2810888.88888889\n",
      "  4056500.          3619000.          3619000.          4620000.\n",
      "  4690000.          5600000.          4371888.88888889  5460000.\n",
      "  3990000.          3727500.          5250000.          4966500.\n",
      "  6083000.          5775000.          4620000.          5740000.\n",
      "  3500000.          7542500.          5530000.          4338833.33333333\n",
      " 10850000.          3619000.          3271625.          5950000.\n",
      "  3266307.69230769  3754333.33333333  6300000.          7875000.\n",
      "  3561444.44444444  4771666.66666667  3619000.          6405000.\n",
      "  3271625.          3271625.          6650000.          3826666.66666667\n",
      "  2989000.          3290000.          3290000.          7542500.\n",
      "  4771666.66666667  3500000.          4690000.          6020000.\n",
      "  3271625.          8540000.          5950000.          3266307.69230769\n",
      "  4025000.          3701250.          9240000.          8190000.\n",
      "  3118850.          4056500.          5775000.          2975000.\n",
      "  3619000.          7420000.          3266307.69230769  2233000.\n",
      "  2810888.88888889  3430000.          5600000.          3561444.44444444\n",
      "  2730000.          7560000.          4060000.          2940000.\n",
      "  9240000.          3266307.69230769  6860000.          3701250.\n",
      "  3701250.        ]\n"
     ]
    }
   ],
   "source": [
    "ypred_m2 = m2.predict(x_test)\n",
    "print(ypred_m2)"
   ]
  },
  {
   "cell_type": "code",
   "execution_count": null,
   "id": "84c905e1",
   "metadata": {},
   "outputs": [],
   "source": []
  }
 ],
 "metadata": {
  "kernelspec": {
   "display_name": "Python 3 (ipykernel)",
   "language": "python",
   "name": "python3"
  },
  "language_info": {
   "codemirror_mode": {
    "name": "ipython",
    "version": 3
   },
   "file_extension": ".py",
   "mimetype": "text/x-python",
   "name": "python",
   "nbconvert_exporter": "python",
   "pygments_lexer": "ipython3",
   "version": "3.9.7"
  }
 },
 "nbformat": 4,
 "nbformat_minor": 5
}
